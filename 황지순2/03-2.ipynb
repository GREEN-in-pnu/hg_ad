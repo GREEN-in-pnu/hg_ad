{
 "cells": [
  {
   "cell_type": "code",
   "id": "initial_id",
   "metadata": {
    "collapsed": true,
    "ExecuteTime": {
     "end_time": "2025-05-12T08:59:52.105466Z",
     "start_time": "2025-05-12T08:59:50.738395Z"
    }
   },
   "source": [
    "import numpy as np\n",
    "import pandas as pd\n",
    "ns_book4 = pd.read_csv('ns_book4.csv',low_memory=False)\n",
    "ns_book4.head()"
   ],
   "outputs": [
    {
     "data": {
      "text/plain": [
       "   번호                    도서명                저자    출판사  발행년도           ISBN  \\\n",
       "0   1                인공지능과 흙            김동훈 지음    민음사  2021  9788937444319   \n",
       "1   2           가짜 행복 권하는 사회            김태형 지음   갈매나무  2021  9791190123969   \n",
       "2   3  나도 한 문장 잘 쓰면 바랄 게 없겠네            김선영 지음   블랙피쉬  2021  9788968332982   \n",
       "3   4                예루살렘 해변  이도 게펜 지음, 임재희 옮김  문학세계사  2021  9788970759906   \n",
       "4   5  김성곤의 중국한시기행 : 장강·황하 편            김성곤 지음    김영사  2021  9788934990833   \n",
       "\n",
       "  세트 ISBN 부가기호    권 주제분류번호  도서권수  대출건수        등록일자  \n",
       "0     NaN  NaN  NaN    NaN     1   0.0  2021-03-19  \n",
       "1     NaN  NaN  NaN    NaN     1   0.0  2021-03-19  \n",
       "2     NaN  NaN  NaN    NaN     1   0.0  2021-03-19  \n",
       "3     NaN  NaN  NaN    NaN     1   0.0  2021-03-19  \n",
       "4     NaN  NaN  NaN    NaN     1   0.0  2021-03-19  "
      ],
      "text/html": [
       "<div>\n",
       "<style scoped>\n",
       "    .dataframe tbody tr th:only-of-type {\n",
       "        vertical-align: middle;\n",
       "    }\n",
       "\n",
       "    .dataframe tbody tr th {\n",
       "        vertical-align: top;\n",
       "    }\n",
       "\n",
       "    .dataframe thead th {\n",
       "        text-align: right;\n",
       "    }\n",
       "</style>\n",
       "<table border=\"1\" class=\"dataframe\">\n",
       "  <thead>\n",
       "    <tr style=\"text-align: right;\">\n",
       "      <th></th>\n",
       "      <th>번호</th>\n",
       "      <th>도서명</th>\n",
       "      <th>저자</th>\n",
       "      <th>출판사</th>\n",
       "      <th>발행년도</th>\n",
       "      <th>ISBN</th>\n",
       "      <th>세트 ISBN</th>\n",
       "      <th>부가기호</th>\n",
       "      <th>권</th>\n",
       "      <th>주제분류번호</th>\n",
       "      <th>도서권수</th>\n",
       "      <th>대출건수</th>\n",
       "      <th>등록일자</th>\n",
       "    </tr>\n",
       "  </thead>\n",
       "  <tbody>\n",
       "    <tr>\n",
       "      <th>0</th>\n",
       "      <td>1</td>\n",
       "      <td>인공지능과 흙</td>\n",
       "      <td>김동훈 지음</td>\n",
       "      <td>민음사</td>\n",
       "      <td>2021</td>\n",
       "      <td>9788937444319</td>\n",
       "      <td>NaN</td>\n",
       "      <td>NaN</td>\n",
       "      <td>NaN</td>\n",
       "      <td>NaN</td>\n",
       "      <td>1</td>\n",
       "      <td>0.0</td>\n",
       "      <td>2021-03-19</td>\n",
       "    </tr>\n",
       "    <tr>\n",
       "      <th>1</th>\n",
       "      <td>2</td>\n",
       "      <td>가짜 행복 권하는 사회</td>\n",
       "      <td>김태형 지음</td>\n",
       "      <td>갈매나무</td>\n",
       "      <td>2021</td>\n",
       "      <td>9791190123969</td>\n",
       "      <td>NaN</td>\n",
       "      <td>NaN</td>\n",
       "      <td>NaN</td>\n",
       "      <td>NaN</td>\n",
       "      <td>1</td>\n",
       "      <td>0.0</td>\n",
       "      <td>2021-03-19</td>\n",
       "    </tr>\n",
       "    <tr>\n",
       "      <th>2</th>\n",
       "      <td>3</td>\n",
       "      <td>나도 한 문장 잘 쓰면 바랄 게 없겠네</td>\n",
       "      <td>김선영 지음</td>\n",
       "      <td>블랙피쉬</td>\n",
       "      <td>2021</td>\n",
       "      <td>9788968332982</td>\n",
       "      <td>NaN</td>\n",
       "      <td>NaN</td>\n",
       "      <td>NaN</td>\n",
       "      <td>NaN</td>\n",
       "      <td>1</td>\n",
       "      <td>0.0</td>\n",
       "      <td>2021-03-19</td>\n",
       "    </tr>\n",
       "    <tr>\n",
       "      <th>3</th>\n",
       "      <td>4</td>\n",
       "      <td>예루살렘 해변</td>\n",
       "      <td>이도 게펜 지음, 임재희 옮김</td>\n",
       "      <td>문학세계사</td>\n",
       "      <td>2021</td>\n",
       "      <td>9788970759906</td>\n",
       "      <td>NaN</td>\n",
       "      <td>NaN</td>\n",
       "      <td>NaN</td>\n",
       "      <td>NaN</td>\n",
       "      <td>1</td>\n",
       "      <td>0.0</td>\n",
       "      <td>2021-03-19</td>\n",
       "    </tr>\n",
       "    <tr>\n",
       "      <th>4</th>\n",
       "      <td>5</td>\n",
       "      <td>김성곤의 중국한시기행 : 장강·황하 편</td>\n",
       "      <td>김성곤 지음</td>\n",
       "      <td>김영사</td>\n",
       "      <td>2021</td>\n",
       "      <td>9788934990833</td>\n",
       "      <td>NaN</td>\n",
       "      <td>NaN</td>\n",
       "      <td>NaN</td>\n",
       "      <td>NaN</td>\n",
       "      <td>1</td>\n",
       "      <td>0.0</td>\n",
       "      <td>2021-03-19</td>\n",
       "    </tr>\n",
       "  </tbody>\n",
       "</table>\n",
       "</div>"
      ]
     },
     "execution_count": 14,
     "metadata": {},
     "output_type": "execute_result"
    }
   ],
   "execution_count": 14
  },
  {
   "metadata": {
    "ExecuteTime": {
     "end_time": "2025-05-12T08:59:59.768818Z",
     "start_time": "2025-05-12T08:59:59.657708Z"
    }
   },
   "cell_type": "code",
   "source": "ns_book4.info()",
   "id": "9001e8d3e477d49f",
   "outputs": [
    {
     "name": "stdout",
     "output_type": "stream",
     "text": [
      "<class 'pandas.core.frame.DataFrame'>\n",
      "RangeIndex: 384591 entries, 0 to 384590\n",
      "Data columns (total 13 columns):\n",
      " #   Column   Non-Null Count   Dtype  \n",
      "---  ------   --------------   -----  \n",
      " 0   번호       384591 non-null  int64  \n",
      " 1   도서명      384188 non-null  object \n",
      " 2   저자       384393 non-null  object \n",
      " 3   출판사      379950 non-null  object \n",
      " 4   발행년도     384577 non-null  object \n",
      " 5   ISBN     384591 non-null  object \n",
      " 6   세트 ISBN  56576 non-null   object \n",
      " 7   부가기호     310386 non-null  object \n",
      " 8   권        63378 non-null   object \n",
      " 9   주제분류번호   364727 non-null  object \n",
      " 10  도서권수     384591 non-null  int64  \n",
      " 11  대출건수     384591 non-null  float64\n",
      " 12  등록일자     384591 non-null  object \n",
      "dtypes: float64(1), int64(2), object(10)\n",
      "memory usage: 38.1+ MB\n"
     ]
    }
   ],
   "execution_count": 15
  },
  {
   "metadata": {
    "ExecuteTime": {
     "end_time": "2025-05-12T09:00:01.889308Z",
     "start_time": "2025-05-12T09:00:01.795546Z"
    }
   },
   "cell_type": "code",
   "source": "ns_book4.isna().sum()",
   "id": "227336d97a93cd5c",
   "outputs": [
    {
     "data": {
      "text/plain": [
       "번호              0\n",
       "도서명           403\n",
       "저자            198\n",
       "출판사          4641\n",
       "발행년도           14\n",
       "ISBN            0\n",
       "세트 ISBN    328015\n",
       "부가기호        74205\n",
       "권          321213\n",
       "주제분류번호      19864\n",
       "도서권수            0\n",
       "대출건수            0\n",
       "등록일자            0\n",
       "dtype: int64"
      ]
     },
     "execution_count": 16,
     "metadata": {},
     "output_type": "execute_result"
    }
   ],
   "execution_count": 16
  },
  {
   "metadata": {
    "ExecuteTime": {
     "end_time": "2025-05-12T09:00:03.041465Z",
     "start_time": "2025-05-12T09:00:02.931491Z"
    }
   },
   "cell_type": "code",
   "source": "ns_book4.notna().sum()",
   "id": "cb2c15bd351b6cdd",
   "outputs": [
    {
     "data": {
      "text/plain": [
       "번호         384591\n",
       "도서명        384188\n",
       "저자         384393\n",
       "출판사        379950\n",
       "발행년도       384577\n",
       "ISBN       384591\n",
       "세트 ISBN     56576\n",
       "부가기호       310386\n",
       "권           63378\n",
       "주제분류번호     364727\n",
       "도서권수       384591\n",
       "대출건수       384591\n",
       "등록일자       384591\n",
       "dtype: int64"
      ]
     },
     "execution_count": 17,
     "metadata": {},
     "output_type": "execute_result"
    }
   ],
   "execution_count": 17
  },
  {
   "metadata": {},
   "cell_type": "markdown",
   "source": "누락된 값으로 표시하기",
   "id": "1128a31e06d302a7"
  },
  {
   "metadata": {
    "ExecuteTime": {
     "end_time": "2025-05-12T09:00:04.390605Z",
     "start_time": "2025-05-12T09:00:04.368078Z"
    }
   },
   "cell_type": "code",
   "source": [
    "ns_book4.loc[0,'도서권수'] = None\n",
    "ns_book4['도서권수'].isna().sum()"
   ],
   "id": "f11aa847a5139be8",
   "outputs": [
    {
     "data": {
      "text/plain": [
       "1"
      ]
     },
     "execution_count": 18,
     "metadata": {},
     "output_type": "execute_result"
    }
   ],
   "execution_count": 18
  },
  {
   "metadata": {
    "ExecuteTime": {
     "end_time": "2025-05-12T09:00:05.683024Z",
     "start_time": "2025-05-12T09:00:05.656721Z"
    }
   },
   "cell_type": "code",
   "source": [
    "ns_book4.head(2)\n",
    "#판다스가 NaN을 특별한 실수 값으로 저장하기 때문에 도서권수의 datatype이 float로 바뀜."
   ],
   "id": "a1db3cde94f88b23",
   "outputs": [
    {
     "data": {
      "text/plain": [
       "   번호           도서명      저자   출판사  발행년도           ISBN 세트 ISBN 부가기호    권  \\\n",
       "0   1       인공지능과 흙  김동훈 지음   민음사  2021  9788937444319     NaN  NaN  NaN   \n",
       "1   2  가짜 행복 권하는 사회  김태형 지음  갈매나무  2021  9791190123969     NaN  NaN  NaN   \n",
       "\n",
       "  주제분류번호  도서권수  대출건수        등록일자  \n",
       "0    NaN   NaN   0.0  2021-03-19  \n",
       "1    NaN   1.0   0.0  2021-03-19  "
      ],
      "text/html": [
       "<div>\n",
       "<style scoped>\n",
       "    .dataframe tbody tr th:only-of-type {\n",
       "        vertical-align: middle;\n",
       "    }\n",
       "\n",
       "    .dataframe tbody tr th {\n",
       "        vertical-align: top;\n",
       "    }\n",
       "\n",
       "    .dataframe thead th {\n",
       "        text-align: right;\n",
       "    }\n",
       "</style>\n",
       "<table border=\"1\" class=\"dataframe\">\n",
       "  <thead>\n",
       "    <tr style=\"text-align: right;\">\n",
       "      <th></th>\n",
       "      <th>번호</th>\n",
       "      <th>도서명</th>\n",
       "      <th>저자</th>\n",
       "      <th>출판사</th>\n",
       "      <th>발행년도</th>\n",
       "      <th>ISBN</th>\n",
       "      <th>세트 ISBN</th>\n",
       "      <th>부가기호</th>\n",
       "      <th>권</th>\n",
       "      <th>주제분류번호</th>\n",
       "      <th>도서권수</th>\n",
       "      <th>대출건수</th>\n",
       "      <th>등록일자</th>\n",
       "    </tr>\n",
       "  </thead>\n",
       "  <tbody>\n",
       "    <tr>\n",
       "      <th>0</th>\n",
       "      <td>1</td>\n",
       "      <td>인공지능과 흙</td>\n",
       "      <td>김동훈 지음</td>\n",
       "      <td>민음사</td>\n",
       "      <td>2021</td>\n",
       "      <td>9788937444319</td>\n",
       "      <td>NaN</td>\n",
       "      <td>NaN</td>\n",
       "      <td>NaN</td>\n",
       "      <td>NaN</td>\n",
       "      <td>NaN</td>\n",
       "      <td>0.0</td>\n",
       "      <td>2021-03-19</td>\n",
       "    </tr>\n",
       "    <tr>\n",
       "      <th>1</th>\n",
       "      <td>2</td>\n",
       "      <td>가짜 행복 권하는 사회</td>\n",
       "      <td>김태형 지음</td>\n",
       "      <td>갈매나무</td>\n",
       "      <td>2021</td>\n",
       "      <td>9791190123969</td>\n",
       "      <td>NaN</td>\n",
       "      <td>NaN</td>\n",
       "      <td>NaN</td>\n",
       "      <td>NaN</td>\n",
       "      <td>1.0</td>\n",
       "      <td>0.0</td>\n",
       "      <td>2021-03-19</td>\n",
       "    </tr>\n",
       "  </tbody>\n",
       "</table>\n",
       "</div>"
      ]
     },
     "execution_count": 19,
     "metadata": {},
     "output_type": "execute_result"
    }
   ],
   "execution_count": 19
  },
  {
   "metadata": {
    "ExecuteTime": {
     "end_time": "2025-05-12T09:00:06.525060Z",
     "start_time": "2025-05-12T09:00:06.447168Z"
    }
   },
   "cell_type": "code",
   "source": [
    "ns_book4.loc[0,'도서권수']=1\n",
    "ns_book4 = ns_book4.astype({'도서권수':'int64', '대출건수':'int64'})\n",
    "ns_book4.head(2)"
   ],
   "id": "401b87b674f2d46d",
   "outputs": [
    {
     "data": {
      "text/plain": [
       "   번호           도서명      저자   출판사  발행년도           ISBN 세트 ISBN 부가기호    권  \\\n",
       "0   1       인공지능과 흙  김동훈 지음   민음사  2021  9788937444319     NaN  NaN  NaN   \n",
       "1   2  가짜 행복 권하는 사회  김태형 지음  갈매나무  2021  9791190123969     NaN  NaN  NaN   \n",
       "\n",
       "  주제분류번호  도서권수  대출건수        등록일자  \n",
       "0    NaN     1     0  2021-03-19  \n",
       "1    NaN     1     0  2021-03-19  "
      ],
      "text/html": [
       "<div>\n",
       "<style scoped>\n",
       "    .dataframe tbody tr th:only-of-type {\n",
       "        vertical-align: middle;\n",
       "    }\n",
       "\n",
       "    .dataframe tbody tr th {\n",
       "        vertical-align: top;\n",
       "    }\n",
       "\n",
       "    .dataframe thead th {\n",
       "        text-align: right;\n",
       "    }\n",
       "</style>\n",
       "<table border=\"1\" class=\"dataframe\">\n",
       "  <thead>\n",
       "    <tr style=\"text-align: right;\">\n",
       "      <th></th>\n",
       "      <th>번호</th>\n",
       "      <th>도서명</th>\n",
       "      <th>저자</th>\n",
       "      <th>출판사</th>\n",
       "      <th>발행년도</th>\n",
       "      <th>ISBN</th>\n",
       "      <th>세트 ISBN</th>\n",
       "      <th>부가기호</th>\n",
       "      <th>권</th>\n",
       "      <th>주제분류번호</th>\n",
       "      <th>도서권수</th>\n",
       "      <th>대출건수</th>\n",
       "      <th>등록일자</th>\n",
       "    </tr>\n",
       "  </thead>\n",
       "  <tbody>\n",
       "    <tr>\n",
       "      <th>0</th>\n",
       "      <td>1</td>\n",
       "      <td>인공지능과 흙</td>\n",
       "      <td>김동훈 지음</td>\n",
       "      <td>민음사</td>\n",
       "      <td>2021</td>\n",
       "      <td>9788937444319</td>\n",
       "      <td>NaN</td>\n",
       "      <td>NaN</td>\n",
       "      <td>NaN</td>\n",
       "      <td>NaN</td>\n",
       "      <td>1</td>\n",
       "      <td>0</td>\n",
       "      <td>2021-03-19</td>\n",
       "    </tr>\n",
       "    <tr>\n",
       "      <th>1</th>\n",
       "      <td>2</td>\n",
       "      <td>가짜 행복 권하는 사회</td>\n",
       "      <td>김태형 지음</td>\n",
       "      <td>갈매나무</td>\n",
       "      <td>2021</td>\n",
       "      <td>9791190123969</td>\n",
       "      <td>NaN</td>\n",
       "      <td>NaN</td>\n",
       "      <td>NaN</td>\n",
       "      <td>NaN</td>\n",
       "      <td>1</td>\n",
       "      <td>0</td>\n",
       "      <td>2021-03-19</td>\n",
       "    </tr>\n",
       "  </tbody>\n",
       "</table>\n",
       "</div>"
      ]
     },
     "execution_count": 20,
     "metadata": {},
     "output_type": "execute_result"
    }
   ],
   "execution_count": 20
  },
  {
   "metadata": {
    "ExecuteTime": {
     "end_time": "2025-05-12T09:00:07.401945Z",
     "start_time": "2025-05-12T09:00:07.387509Z"
    }
   },
   "cell_type": "code",
   "source": [
    "ns_book4.loc[0,'부가기호']=None\n",
    "ns_book4.head(2)"
   ],
   "id": "662e04203cbec03c",
   "outputs": [
    {
     "data": {
      "text/plain": [
       "   번호           도서명      저자   출판사  발행년도           ISBN 세트 ISBN  부가기호    권  \\\n",
       "0   1       인공지능과 흙  김동훈 지음   민음사  2021  9788937444319     NaN  None  NaN   \n",
       "1   2  가짜 행복 권하는 사회  김태형 지음  갈매나무  2021  9791190123969     NaN   NaN  NaN   \n",
       "\n",
       "  주제분류번호  도서권수  대출건수        등록일자  \n",
       "0    NaN     1     0  2021-03-19  \n",
       "1    NaN     1     0  2021-03-19  "
      ],
      "text/html": [
       "<div>\n",
       "<style scoped>\n",
       "    .dataframe tbody tr th:only-of-type {\n",
       "        vertical-align: middle;\n",
       "    }\n",
       "\n",
       "    .dataframe tbody tr th {\n",
       "        vertical-align: top;\n",
       "    }\n",
       "\n",
       "    .dataframe thead th {\n",
       "        text-align: right;\n",
       "    }\n",
       "</style>\n",
       "<table border=\"1\" class=\"dataframe\">\n",
       "  <thead>\n",
       "    <tr style=\"text-align: right;\">\n",
       "      <th></th>\n",
       "      <th>번호</th>\n",
       "      <th>도서명</th>\n",
       "      <th>저자</th>\n",
       "      <th>출판사</th>\n",
       "      <th>발행년도</th>\n",
       "      <th>ISBN</th>\n",
       "      <th>세트 ISBN</th>\n",
       "      <th>부가기호</th>\n",
       "      <th>권</th>\n",
       "      <th>주제분류번호</th>\n",
       "      <th>도서권수</th>\n",
       "      <th>대출건수</th>\n",
       "      <th>등록일자</th>\n",
       "    </tr>\n",
       "  </thead>\n",
       "  <tbody>\n",
       "    <tr>\n",
       "      <th>0</th>\n",
       "      <td>1</td>\n",
       "      <td>인공지능과 흙</td>\n",
       "      <td>김동훈 지음</td>\n",
       "      <td>민음사</td>\n",
       "      <td>2021</td>\n",
       "      <td>9788937444319</td>\n",
       "      <td>NaN</td>\n",
       "      <td>None</td>\n",
       "      <td>NaN</td>\n",
       "      <td>NaN</td>\n",
       "      <td>1</td>\n",
       "      <td>0</td>\n",
       "      <td>2021-03-19</td>\n",
       "    </tr>\n",
       "    <tr>\n",
       "      <th>1</th>\n",
       "      <td>2</td>\n",
       "      <td>가짜 행복 권하는 사회</td>\n",
       "      <td>김태형 지음</td>\n",
       "      <td>갈매나무</td>\n",
       "      <td>2021</td>\n",
       "      <td>9791190123969</td>\n",
       "      <td>NaN</td>\n",
       "      <td>NaN</td>\n",
       "      <td>NaN</td>\n",
       "      <td>NaN</td>\n",
       "      <td>1</td>\n",
       "      <td>0</td>\n",
       "      <td>2021-03-19</td>\n",
       "    </tr>\n",
       "  </tbody>\n",
       "</table>\n",
       "</div>"
      ]
     },
     "execution_count": 21,
     "metadata": {},
     "output_type": "execute_result"
    }
   ],
   "execution_count": 21
  },
  {
   "metadata": {
    "ExecuteTime": {
     "end_time": "2025-05-12T09:02:49.505233Z",
     "start_time": "2025-05-12T09:02:49.471014Z"
    }
   },
   "cell_type": "code",
   "source": [
    "import numpy as np\n",
    "ns_book4.loc[0, '부가기호'] = np.nan\n",
    "ns_book4.head(2)"
   ],
   "id": "899178b52cb438c0",
   "outputs": [
    {
     "data": {
      "text/plain": [
       "   번호           도서명      저자   출판사  발행년도           ISBN 세트 ISBN 부가기호    권  \\\n",
       "0   1       인공지능과 흙  김동훈 지음   민음사  2021  9788937444319     NaN  NaN  NaN   \n",
       "1   2  가짜 행복 권하는 사회  김태형 지음  갈매나무  2021  9791190123969     NaN  NaN  NaN   \n",
       "\n",
       "  주제분류번호  도서권수  대출건수        등록일자  \n",
       "0    NaN     1     0  2021-03-19  \n",
       "1    NaN     1     0  2021-03-19  "
      ],
      "text/html": [
       "<div>\n",
       "<style scoped>\n",
       "    .dataframe tbody tr th:only-of-type {\n",
       "        vertical-align: middle;\n",
       "    }\n",
       "\n",
       "    .dataframe tbody tr th {\n",
       "        vertical-align: top;\n",
       "    }\n",
       "\n",
       "    .dataframe thead th {\n",
       "        text-align: right;\n",
       "    }\n",
       "</style>\n",
       "<table border=\"1\" class=\"dataframe\">\n",
       "  <thead>\n",
       "    <tr style=\"text-align: right;\">\n",
       "      <th></th>\n",
       "      <th>번호</th>\n",
       "      <th>도서명</th>\n",
       "      <th>저자</th>\n",
       "      <th>출판사</th>\n",
       "      <th>발행년도</th>\n",
       "      <th>ISBN</th>\n",
       "      <th>세트 ISBN</th>\n",
       "      <th>부가기호</th>\n",
       "      <th>권</th>\n",
       "      <th>주제분류번호</th>\n",
       "      <th>도서권수</th>\n",
       "      <th>대출건수</th>\n",
       "      <th>등록일자</th>\n",
       "    </tr>\n",
       "  </thead>\n",
       "  <tbody>\n",
       "    <tr>\n",
       "      <th>0</th>\n",
       "      <td>1</td>\n",
       "      <td>인공지능과 흙</td>\n",
       "      <td>김동훈 지음</td>\n",
       "      <td>민음사</td>\n",
       "      <td>2021</td>\n",
       "      <td>9788937444319</td>\n",
       "      <td>NaN</td>\n",
       "      <td>NaN</td>\n",
       "      <td>NaN</td>\n",
       "      <td>NaN</td>\n",
       "      <td>1</td>\n",
       "      <td>0</td>\n",
       "      <td>2021-03-19</td>\n",
       "    </tr>\n",
       "    <tr>\n",
       "      <th>1</th>\n",
       "      <td>2</td>\n",
       "      <td>가짜 행복 권하는 사회</td>\n",
       "      <td>김태형 지음</td>\n",
       "      <td>갈매나무</td>\n",
       "      <td>2021</td>\n",
       "      <td>9791190123969</td>\n",
       "      <td>NaN</td>\n",
       "      <td>NaN</td>\n",
       "      <td>NaN</td>\n",
       "      <td>NaN</td>\n",
       "      <td>1</td>\n",
       "      <td>0</td>\n",
       "      <td>2021-03-19</td>\n",
       "    </tr>\n",
       "  </tbody>\n",
       "</table>\n",
       "</div>"
      ]
     },
     "execution_count": 23,
     "metadata": {},
     "output_type": "execute_result"
    }
   ],
   "execution_count": 23
  },
  {
   "metadata": {},
   "cell_type": "markdown",
   "source": "누락된 값 바꾸기(1):loc, fillna()메서드",
   "id": "39d8098df798c0a7"
  },
  {
   "metadata": {
    "ExecuteTime": {
     "end_time": "2025-05-12T13:22:15.507479Z",
     "start_time": "2025-05-12T13:22:15.429488Z"
    }
   },
   "cell_type": "code",
   "source": [
    "set_isbn_na_rows = ns_book4['세트 ISBN'].isna()\n",
    "ns_book4.loc[set_isbn_na_rows, '세트 ISBN'] = ''\n",
    "ns_book4['세트 ISBN'].isna().sum()"
   ],
   "id": "404e0d88e695a247",
   "outputs": [
    {
     "data": {
      "text/plain": [
       "0"
      ]
     },
     "execution_count": 35,
     "metadata": {},
     "output_type": "execute_result"
    }
   ],
   "execution_count": 35
  },
  {
   "metadata": {
    "ExecuteTime": {
     "end_time": "2025-05-12T13:23:20.195568Z",
     "start_time": "2025-05-12T13:23:19.863249Z"
    }
   },
   "cell_type": "code",
   "source": "ns_book4.fillna('없음').isna().sum()",
   "id": "f46a7f02b87a8670",
   "outputs": [
    {
     "data": {
      "text/plain": [
       "번호         0\n",
       "도서명        0\n",
       "저자         0\n",
       "출판사        0\n",
       "발행년도       0\n",
       "ISBN       0\n",
       "세트 ISBN    0\n",
       "부가기호       0\n",
       "권          0\n",
       "주제분류번호     0\n",
       "도서권수       0\n",
       "대출건수       0\n",
       "등록일자       0\n",
       "dtype: int64"
      ]
     },
     "execution_count": 36,
     "metadata": {},
     "output_type": "execute_result"
    }
   ],
   "execution_count": 36
  },
  {
   "metadata": {
    "ExecuteTime": {
     "end_time": "2025-05-12T13:10:15.661530Z",
     "start_time": "2025-05-12T13:10:15.318409Z"
    }
   },
   "cell_type": "code",
   "source": "ns_book4.replace(np.nan,'없음').isna().sum()",
   "id": "4a325f386d51e8fb",
   "outputs": [
    {
     "data": {
      "text/plain": [
       "번호         0\n",
       "도서명        0\n",
       "저자         0\n",
       "출판사        0\n",
       "발행년도       0\n",
       "ISBN       0\n",
       "세트 ISBN    0\n",
       "부가기호       0\n",
       "권          0\n",
       "주제분류번호     0\n",
       "도서권수       0\n",
       "대출건수       0\n",
       "등록일자       0\n",
       "dtype: int64"
      ]
     },
     "execution_count": 24,
     "metadata": {},
     "output_type": "execute_result"
    }
   ],
   "execution_count": 24
  },
  {
   "metadata": {
    "ExecuteTime": {
     "end_time": "2025-05-12T13:24:06.974494Z",
     "start_time": "2025-05-12T13:24:06.904124Z"
    }
   },
   "cell_type": "code",
   "source": "ns_book4['부가기호'].fillna('없음').isna().sum()",
   "id": "dbe09af691d3cf9d",
   "outputs": [
    {
     "data": {
      "text/plain": [
       "0"
      ]
     },
     "execution_count": 37,
     "metadata": {},
     "output_type": "execute_result"
    }
   ],
   "execution_count": 37
  },
  {
   "metadata": {
    "ExecuteTime": {
     "end_time": "2025-05-12T13:24:58.092193Z",
     "start_time": "2025-05-12T13:24:58.044173Z"
    }
   },
   "cell_type": "code",
   "source": [
    "#열 선택하여 NaN값 바꾸기. 결과는 데이터 프레임이 바뀌는 게 아니라 열 이름 없는 판다스 시리즈로 반환한다. \n",
    "ns_book4['부가기호'].fillna('없음')"
   ],
   "id": "edaf0010a2ca4b3c",
   "outputs": [
    {
     "data": {
      "text/plain": [
       "0         없음\n",
       "1         없음\n",
       "2         없음\n",
       "3         없음\n",
       "4         없음\n",
       "          ..\n",
       "384586    없음\n",
       "384587    없음\n",
       "384588    없음\n",
       "384589    없음\n",
       "384590    없음\n",
       "Name: 부가기호, Length: 384591, dtype: object"
      ]
     },
     "execution_count": 38,
     "metadata": {},
     "output_type": "execute_result"
    }
   ],
   "execution_count": 38
  },
  {
   "metadata": {
    "ExecuteTime": {
     "end_time": "2025-05-12T13:27:22.391379Z",
     "start_time": "2025-05-12T13:27:22.164403Z"
    }
   },
   "cell_type": "code",
   "source": [
    "#열 선택하여 NaN값 바꾸고 전체 데이터프레임을 반환하려면.\n",
    "ns_book4.fillna({'부가기호':'없음'}).isna().sum()"
   ],
   "id": "521dbf18d93b5ca6",
   "outputs": [
    {
     "data": {
      "text/plain": [
       "번호              0\n",
       "도서명           403\n",
       "저자            198\n",
       "출판사          4641\n",
       "발행년도           14\n",
       "ISBN            0\n",
       "세트 ISBN         0\n",
       "부가기호            0\n",
       "권          321213\n",
       "주제분류번호      19864\n",
       "도서권수            0\n",
       "대출건수            0\n",
       "등록일자            0\n",
       "dtype: int64"
      ]
     },
     "execution_count": 39,
     "metadata": {},
     "output_type": "execute_result"
    }
   ],
   "execution_count": 39
  },
  {
   "metadata": {},
   "cell_type": "markdown",
   "source": "누락된 값 바꾸기(2): replace() 메서드",
   "id": "86743ef8cabd4de2"
  },
  {
   "metadata": {
    "ExecuteTime": {
     "end_time": "2025-05-12T13:27:55.395633Z",
     "start_time": "2025-05-12T13:27:55.082178Z"
    }
   },
   "cell_type": "code",
   "source": [
    "ns_book4.replace(np.nan,'없음').head()\n",
    "ns_book4.head()"
   ],
   "id": "ba64fc302c437bb0",
   "outputs": [
    {
     "data": {
      "text/plain": [
       "   번호                    도서명                저자    출판사  발행년도           ISBN  \\\n",
       "0   1                인공지능과 흙            김동훈 지음    민음사  2021  9788937444319   \n",
       "1   2           가짜 행복 권하는 사회            김태형 지음   갈매나무  2021  9791190123969   \n",
       "2   3  나도 한 문장 잘 쓰면 바랄 게 없겠네            김선영 지음   블랙피쉬  2021  9788968332982   \n",
       "3   4                예루살렘 해변  이도 게펜 지음, 임재희 옮김  문학세계사  2021  9788970759906   \n",
       "4   5  김성곤의 중국한시기행 : 장강·황하 편            김성곤 지음    김영사  2021  9788934990833   \n",
       "\n",
       "  세트 ISBN 부가기호    권 주제분류번호  도서권수  대출건수        등록일자  \n",
       "0          NaN  NaN    NaN     1     0  2021-03-19  \n",
       "1          NaN  NaN    NaN     1     0  2021-03-19  \n",
       "2          NaN  NaN    NaN     1     0  2021-03-19  \n",
       "3          NaN  NaN    NaN     1     0  2021-03-19  \n",
       "4          NaN  NaN    NaN     1     0  2021-03-19  "
      ],
      "text/html": [
       "<div>\n",
       "<style scoped>\n",
       "    .dataframe tbody tr th:only-of-type {\n",
       "        vertical-align: middle;\n",
       "    }\n",
       "\n",
       "    .dataframe tbody tr th {\n",
       "        vertical-align: top;\n",
       "    }\n",
       "\n",
       "    .dataframe thead th {\n",
       "        text-align: right;\n",
       "    }\n",
       "</style>\n",
       "<table border=\"1\" class=\"dataframe\">\n",
       "  <thead>\n",
       "    <tr style=\"text-align: right;\">\n",
       "      <th></th>\n",
       "      <th>번호</th>\n",
       "      <th>도서명</th>\n",
       "      <th>저자</th>\n",
       "      <th>출판사</th>\n",
       "      <th>발행년도</th>\n",
       "      <th>ISBN</th>\n",
       "      <th>세트 ISBN</th>\n",
       "      <th>부가기호</th>\n",
       "      <th>권</th>\n",
       "      <th>주제분류번호</th>\n",
       "      <th>도서권수</th>\n",
       "      <th>대출건수</th>\n",
       "      <th>등록일자</th>\n",
       "    </tr>\n",
       "  </thead>\n",
       "  <tbody>\n",
       "    <tr>\n",
       "      <th>0</th>\n",
       "      <td>1</td>\n",
       "      <td>인공지능과 흙</td>\n",
       "      <td>김동훈 지음</td>\n",
       "      <td>민음사</td>\n",
       "      <td>2021</td>\n",
       "      <td>9788937444319</td>\n",
       "      <td></td>\n",
       "      <td>NaN</td>\n",
       "      <td>NaN</td>\n",
       "      <td>NaN</td>\n",
       "      <td>1</td>\n",
       "      <td>0</td>\n",
       "      <td>2021-03-19</td>\n",
       "    </tr>\n",
       "    <tr>\n",
       "      <th>1</th>\n",
       "      <td>2</td>\n",
       "      <td>가짜 행복 권하는 사회</td>\n",
       "      <td>김태형 지음</td>\n",
       "      <td>갈매나무</td>\n",
       "      <td>2021</td>\n",
       "      <td>9791190123969</td>\n",
       "      <td></td>\n",
       "      <td>NaN</td>\n",
       "      <td>NaN</td>\n",
       "      <td>NaN</td>\n",
       "      <td>1</td>\n",
       "      <td>0</td>\n",
       "      <td>2021-03-19</td>\n",
       "    </tr>\n",
       "    <tr>\n",
       "      <th>2</th>\n",
       "      <td>3</td>\n",
       "      <td>나도 한 문장 잘 쓰면 바랄 게 없겠네</td>\n",
       "      <td>김선영 지음</td>\n",
       "      <td>블랙피쉬</td>\n",
       "      <td>2021</td>\n",
       "      <td>9788968332982</td>\n",
       "      <td></td>\n",
       "      <td>NaN</td>\n",
       "      <td>NaN</td>\n",
       "      <td>NaN</td>\n",
       "      <td>1</td>\n",
       "      <td>0</td>\n",
       "      <td>2021-03-19</td>\n",
       "    </tr>\n",
       "    <tr>\n",
       "      <th>3</th>\n",
       "      <td>4</td>\n",
       "      <td>예루살렘 해변</td>\n",
       "      <td>이도 게펜 지음, 임재희 옮김</td>\n",
       "      <td>문학세계사</td>\n",
       "      <td>2021</td>\n",
       "      <td>9788970759906</td>\n",
       "      <td></td>\n",
       "      <td>NaN</td>\n",
       "      <td>NaN</td>\n",
       "      <td>NaN</td>\n",
       "      <td>1</td>\n",
       "      <td>0</td>\n",
       "      <td>2021-03-19</td>\n",
       "    </tr>\n",
       "    <tr>\n",
       "      <th>4</th>\n",
       "      <td>5</td>\n",
       "      <td>김성곤의 중국한시기행 : 장강·황하 편</td>\n",
       "      <td>김성곤 지음</td>\n",
       "      <td>김영사</td>\n",
       "      <td>2021</td>\n",
       "      <td>9788934990833</td>\n",
       "      <td></td>\n",
       "      <td>NaN</td>\n",
       "      <td>NaN</td>\n",
       "      <td>NaN</td>\n",
       "      <td>1</td>\n",
       "      <td>0</td>\n",
       "      <td>2021-03-19</td>\n",
       "    </tr>\n",
       "  </tbody>\n",
       "</table>\n",
       "</div>"
      ]
     },
     "execution_count": 40,
     "metadata": {},
     "output_type": "execute_result"
    }
   ],
   "execution_count": 40
  },
  {
   "metadata": {
    "ExecuteTime": {
     "end_time": "2025-05-12T13:27:55.921015Z",
     "start_time": "2025-05-12T13:27:55.461160Z"
    }
   },
   "cell_type": "code",
   "source": [
    "#1\n",
    "ns_book4.replace([np.nan, '2021'],['없음','21']).head(2)"
   ],
   "id": "5594a7c21d6d510b",
   "outputs": [
    {
     "data": {
      "text/plain": [
       "   번호           도서명      저자   출판사 발행년도           ISBN 세트 ISBN 부가기호   권 주제분류번호  \\\n",
       "0   1       인공지능과 흙  김동훈 지음   민음사   21  9788937444319           없음  없음     없음   \n",
       "1   2  가짜 행복 권하는 사회  김태형 지음  갈매나무   21  9791190123969           없음  없음     없음   \n",
       "\n",
       "   도서권수  대출건수        등록일자  \n",
       "0     1     0  2021-03-19  \n",
       "1     1     0  2021-03-19  "
      ],
      "text/html": [
       "<div>\n",
       "<style scoped>\n",
       "    .dataframe tbody tr th:only-of-type {\n",
       "        vertical-align: middle;\n",
       "    }\n",
       "\n",
       "    .dataframe tbody tr th {\n",
       "        vertical-align: top;\n",
       "    }\n",
       "\n",
       "    .dataframe thead th {\n",
       "        text-align: right;\n",
       "    }\n",
       "</style>\n",
       "<table border=\"1\" class=\"dataframe\">\n",
       "  <thead>\n",
       "    <tr style=\"text-align: right;\">\n",
       "      <th></th>\n",
       "      <th>번호</th>\n",
       "      <th>도서명</th>\n",
       "      <th>저자</th>\n",
       "      <th>출판사</th>\n",
       "      <th>발행년도</th>\n",
       "      <th>ISBN</th>\n",
       "      <th>세트 ISBN</th>\n",
       "      <th>부가기호</th>\n",
       "      <th>권</th>\n",
       "      <th>주제분류번호</th>\n",
       "      <th>도서권수</th>\n",
       "      <th>대출건수</th>\n",
       "      <th>등록일자</th>\n",
       "    </tr>\n",
       "  </thead>\n",
       "  <tbody>\n",
       "    <tr>\n",
       "      <th>0</th>\n",
       "      <td>1</td>\n",
       "      <td>인공지능과 흙</td>\n",
       "      <td>김동훈 지음</td>\n",
       "      <td>민음사</td>\n",
       "      <td>21</td>\n",
       "      <td>9788937444319</td>\n",
       "      <td></td>\n",
       "      <td>없음</td>\n",
       "      <td>없음</td>\n",
       "      <td>없음</td>\n",
       "      <td>1</td>\n",
       "      <td>0</td>\n",
       "      <td>2021-03-19</td>\n",
       "    </tr>\n",
       "    <tr>\n",
       "      <th>1</th>\n",
       "      <td>2</td>\n",
       "      <td>가짜 행복 권하는 사회</td>\n",
       "      <td>김태형 지음</td>\n",
       "      <td>갈매나무</td>\n",
       "      <td>21</td>\n",
       "      <td>9791190123969</td>\n",
       "      <td></td>\n",
       "      <td>없음</td>\n",
       "      <td>없음</td>\n",
       "      <td>없음</td>\n",
       "      <td>1</td>\n",
       "      <td>0</td>\n",
       "      <td>2021-03-19</td>\n",
       "    </tr>\n",
       "  </tbody>\n",
       "</table>\n",
       "</div>"
      ]
     },
     "execution_count": 41,
     "metadata": {},
     "output_type": "execute_result"
    }
   ],
   "execution_count": 41
  },
  {
   "metadata": {
    "ExecuteTime": {
     "end_time": "2025-05-12T13:27:56.628277Z",
     "start_time": "2025-05-12T13:27:56.067298Z"
    }
   },
   "cell_type": "code",
   "source": [
    "#2\n",
    "ns_book4.replace({np.nan:'없음','2021':'21'}).head(2)"
   ],
   "id": "3272a001410c771d",
   "outputs": [
    {
     "data": {
      "text/plain": [
       "   번호           도서명      저자   출판사 발행년도           ISBN 세트 ISBN 부가기호   권 주제분류번호  \\\n",
       "0   1       인공지능과 흙  김동훈 지음   민음사   21  9788937444319           없음  없음     없음   \n",
       "1   2  가짜 행복 권하는 사회  김태형 지음  갈매나무   21  9791190123969           없음  없음     없음   \n",
       "\n",
       "   도서권수  대출건수        등록일자  \n",
       "0     1     0  2021-03-19  \n",
       "1     1     0  2021-03-19  "
      ],
      "text/html": [
       "<div>\n",
       "<style scoped>\n",
       "    .dataframe tbody tr th:only-of-type {\n",
       "        vertical-align: middle;\n",
       "    }\n",
       "\n",
       "    .dataframe tbody tr th {\n",
       "        vertical-align: top;\n",
       "    }\n",
       "\n",
       "    .dataframe thead th {\n",
       "        text-align: right;\n",
       "    }\n",
       "</style>\n",
       "<table border=\"1\" class=\"dataframe\">\n",
       "  <thead>\n",
       "    <tr style=\"text-align: right;\">\n",
       "      <th></th>\n",
       "      <th>번호</th>\n",
       "      <th>도서명</th>\n",
       "      <th>저자</th>\n",
       "      <th>출판사</th>\n",
       "      <th>발행년도</th>\n",
       "      <th>ISBN</th>\n",
       "      <th>세트 ISBN</th>\n",
       "      <th>부가기호</th>\n",
       "      <th>권</th>\n",
       "      <th>주제분류번호</th>\n",
       "      <th>도서권수</th>\n",
       "      <th>대출건수</th>\n",
       "      <th>등록일자</th>\n",
       "    </tr>\n",
       "  </thead>\n",
       "  <tbody>\n",
       "    <tr>\n",
       "      <th>0</th>\n",
       "      <td>1</td>\n",
       "      <td>인공지능과 흙</td>\n",
       "      <td>김동훈 지음</td>\n",
       "      <td>민음사</td>\n",
       "      <td>21</td>\n",
       "      <td>9788937444319</td>\n",
       "      <td></td>\n",
       "      <td>없음</td>\n",
       "      <td>없음</td>\n",
       "      <td>없음</td>\n",
       "      <td>1</td>\n",
       "      <td>0</td>\n",
       "      <td>2021-03-19</td>\n",
       "    </tr>\n",
       "    <tr>\n",
       "      <th>1</th>\n",
       "      <td>2</td>\n",
       "      <td>가짜 행복 권하는 사회</td>\n",
       "      <td>김태형 지음</td>\n",
       "      <td>갈매나무</td>\n",
       "      <td>21</td>\n",
       "      <td>9791190123969</td>\n",
       "      <td></td>\n",
       "      <td>없음</td>\n",
       "      <td>없음</td>\n",
       "      <td>없음</td>\n",
       "      <td>1</td>\n",
       "      <td>0</td>\n",
       "      <td>2021-03-19</td>\n",
       "    </tr>\n",
       "  </tbody>\n",
       "</table>\n",
       "</div>"
      ]
     },
     "execution_count": 42,
     "metadata": {},
     "output_type": "execute_result"
    }
   ],
   "execution_count": 42
  },
  {
   "metadata": {
    "ExecuteTime": {
     "end_time": "2025-05-12T13:27:56.836204Z",
     "start_time": "2025-05-12T13:27:56.744848Z"
    }
   },
   "cell_type": "code",
   "source": [
    "#3\n",
    "ns_book4.replace({'부가기호':np.nan},'없음').head(2)"
   ],
   "id": "4d0ba3ea3fdfa3da",
   "outputs": [
    {
     "data": {
      "text/plain": [
       "   번호           도서명      저자   출판사  발행년도           ISBN 세트 ISBN 부가기호    권  \\\n",
       "0   1       인공지능과 흙  김동훈 지음   민음사  2021  9788937444319           없음  NaN   \n",
       "1   2  가짜 행복 권하는 사회  김태형 지음  갈매나무  2021  9791190123969           없음  NaN   \n",
       "\n",
       "  주제분류번호  도서권수  대출건수        등록일자  \n",
       "0    NaN     1     0  2021-03-19  \n",
       "1    NaN     1     0  2021-03-19  "
      ],
      "text/html": [
       "<div>\n",
       "<style scoped>\n",
       "    .dataframe tbody tr th:only-of-type {\n",
       "        vertical-align: middle;\n",
       "    }\n",
       "\n",
       "    .dataframe tbody tr th {\n",
       "        vertical-align: top;\n",
       "    }\n",
       "\n",
       "    .dataframe thead th {\n",
       "        text-align: right;\n",
       "    }\n",
       "</style>\n",
       "<table border=\"1\" class=\"dataframe\">\n",
       "  <thead>\n",
       "    <tr style=\"text-align: right;\">\n",
       "      <th></th>\n",
       "      <th>번호</th>\n",
       "      <th>도서명</th>\n",
       "      <th>저자</th>\n",
       "      <th>출판사</th>\n",
       "      <th>발행년도</th>\n",
       "      <th>ISBN</th>\n",
       "      <th>세트 ISBN</th>\n",
       "      <th>부가기호</th>\n",
       "      <th>권</th>\n",
       "      <th>주제분류번호</th>\n",
       "      <th>도서권수</th>\n",
       "      <th>대출건수</th>\n",
       "      <th>등록일자</th>\n",
       "    </tr>\n",
       "  </thead>\n",
       "  <tbody>\n",
       "    <tr>\n",
       "      <th>0</th>\n",
       "      <td>1</td>\n",
       "      <td>인공지능과 흙</td>\n",
       "      <td>김동훈 지음</td>\n",
       "      <td>민음사</td>\n",
       "      <td>2021</td>\n",
       "      <td>9788937444319</td>\n",
       "      <td></td>\n",
       "      <td>없음</td>\n",
       "      <td>NaN</td>\n",
       "      <td>NaN</td>\n",
       "      <td>1</td>\n",
       "      <td>0</td>\n",
       "      <td>2021-03-19</td>\n",
       "    </tr>\n",
       "    <tr>\n",
       "      <th>1</th>\n",
       "      <td>2</td>\n",
       "      <td>가짜 행복 권하는 사회</td>\n",
       "      <td>김태형 지음</td>\n",
       "      <td>갈매나무</td>\n",
       "      <td>2021</td>\n",
       "      <td>9791190123969</td>\n",
       "      <td></td>\n",
       "      <td>없음</td>\n",
       "      <td>NaN</td>\n",
       "      <td>NaN</td>\n",
       "      <td>1</td>\n",
       "      <td>0</td>\n",
       "      <td>2021-03-19</td>\n",
       "    </tr>\n",
       "  </tbody>\n",
       "</table>\n",
       "</div>"
      ]
     },
     "execution_count": 43,
     "metadata": {},
     "output_type": "execute_result"
    }
   ],
   "execution_count": 43
  },
  {
   "metadata": {
    "ExecuteTime": {
     "end_time": "2025-05-12T13:27:57.019964Z",
     "start_time": "2025-05-12T13:27:56.944292Z"
    }
   },
   "cell_type": "code",
   "source": [
    "#4\n",
    "ns_book4.replace({'부가기호':{np.nan:'없음'}}).head(2)"
   ],
   "id": "f73a63ffa7d3275e",
   "outputs": [
    {
     "data": {
      "text/plain": [
       "   번호           도서명      저자   출판사  발행년도           ISBN 세트 ISBN 부가기호    권  \\\n",
       "0   1       인공지능과 흙  김동훈 지음   민음사  2021  9788937444319           없음  NaN   \n",
       "1   2  가짜 행복 권하는 사회  김태형 지음  갈매나무  2021  9791190123969           없음  NaN   \n",
       "\n",
       "  주제분류번호  도서권수  대출건수        등록일자  \n",
       "0    NaN     1     0  2021-03-19  \n",
       "1    NaN     1     0  2021-03-19  "
      ],
      "text/html": [
       "<div>\n",
       "<style scoped>\n",
       "    .dataframe tbody tr th:only-of-type {\n",
       "        vertical-align: middle;\n",
       "    }\n",
       "\n",
       "    .dataframe tbody tr th {\n",
       "        vertical-align: top;\n",
       "    }\n",
       "\n",
       "    .dataframe thead th {\n",
       "        text-align: right;\n",
       "    }\n",
       "</style>\n",
       "<table border=\"1\" class=\"dataframe\">\n",
       "  <thead>\n",
       "    <tr style=\"text-align: right;\">\n",
       "      <th></th>\n",
       "      <th>번호</th>\n",
       "      <th>도서명</th>\n",
       "      <th>저자</th>\n",
       "      <th>출판사</th>\n",
       "      <th>발행년도</th>\n",
       "      <th>ISBN</th>\n",
       "      <th>세트 ISBN</th>\n",
       "      <th>부가기호</th>\n",
       "      <th>권</th>\n",
       "      <th>주제분류번호</th>\n",
       "      <th>도서권수</th>\n",
       "      <th>대출건수</th>\n",
       "      <th>등록일자</th>\n",
       "    </tr>\n",
       "  </thead>\n",
       "  <tbody>\n",
       "    <tr>\n",
       "      <th>0</th>\n",
       "      <td>1</td>\n",
       "      <td>인공지능과 흙</td>\n",
       "      <td>김동훈 지음</td>\n",
       "      <td>민음사</td>\n",
       "      <td>2021</td>\n",
       "      <td>9788937444319</td>\n",
       "      <td></td>\n",
       "      <td>없음</td>\n",
       "      <td>NaN</td>\n",
       "      <td>NaN</td>\n",
       "      <td>1</td>\n",
       "      <td>0</td>\n",
       "      <td>2021-03-19</td>\n",
       "    </tr>\n",
       "    <tr>\n",
       "      <th>1</th>\n",
       "      <td>2</td>\n",
       "      <td>가짜 행복 권하는 사회</td>\n",
       "      <td>김태형 지음</td>\n",
       "      <td>갈매나무</td>\n",
       "      <td>2021</td>\n",
       "      <td>9791190123969</td>\n",
       "      <td></td>\n",
       "      <td>없음</td>\n",
       "      <td>NaN</td>\n",
       "      <td>NaN</td>\n",
       "      <td>1</td>\n",
       "      <td>0</td>\n",
       "      <td>2021-03-19</td>\n",
       "    </tr>\n",
       "  </tbody>\n",
       "</table>\n",
       "</div>"
      ]
     },
     "execution_count": 44,
     "metadata": {},
     "output_type": "execute_result"
    }
   ],
   "execution_count": 44
  },
  {
   "metadata": {},
   "cell_type": "markdown",
   "source": "정규 표현식",
   "id": "61ad0315fdf56eda"
  },
  {
   "metadata": {
    "ExecuteTime": {
     "end_time": "2025-05-12T13:35:29.469028Z",
     "start_time": "2025-05-12T13:35:27.919722Z"
    }
   },
   "cell_type": "code",
   "source": [
    "#숫자찾기: \\d\n",
    "ns_book4.replace({'발행년도': {r'(\\d)(\\d)(\\d\\d)':r'\\3'}}, regex=True)[100:102]"
   ],
   "id": "bc02850c19f8fe5f",
   "outputs": [
    {
     "data": {
      "text/plain": [
       "      번호                                        도서명  \\\n",
       "100  101                  No라고 말할 줄 아는 남편과 아내 - 개정판   \n",
       "101  102  D2C 레볼루션 - 스타트업부터 글로벌 기업까지, 마켓 체인저의 필수 전략   \n",
       "\n",
       "                                   저자   출판사 발행년도           ISBN 세트 ISBN 부가기호  \\\n",
       "100  헨리 클라우드, 존 타운센드 (지은이), 김진웅 (옮긴이)  좋은씨앗   18  9788958743019          NaN   \n",
       "101        로런스 인그래시아 (지은이), 안기순 (옮긴이)    부키   21  9788960518483          NaN   \n",
       "\n",
       "       권 주제분류번호  도서권수  대출건수        등록일자  \n",
       "100  NaN  234.9     1     1  2021-03-15  \n",
       "101  NaN  325.1     1     0  2021-03-15  "
      ],
      "text/html": [
       "<div>\n",
       "<style scoped>\n",
       "    .dataframe tbody tr th:only-of-type {\n",
       "        vertical-align: middle;\n",
       "    }\n",
       "\n",
       "    .dataframe tbody tr th {\n",
       "        vertical-align: top;\n",
       "    }\n",
       "\n",
       "    .dataframe thead th {\n",
       "        text-align: right;\n",
       "    }\n",
       "</style>\n",
       "<table border=\"1\" class=\"dataframe\">\n",
       "  <thead>\n",
       "    <tr style=\"text-align: right;\">\n",
       "      <th></th>\n",
       "      <th>번호</th>\n",
       "      <th>도서명</th>\n",
       "      <th>저자</th>\n",
       "      <th>출판사</th>\n",
       "      <th>발행년도</th>\n",
       "      <th>ISBN</th>\n",
       "      <th>세트 ISBN</th>\n",
       "      <th>부가기호</th>\n",
       "      <th>권</th>\n",
       "      <th>주제분류번호</th>\n",
       "      <th>도서권수</th>\n",
       "      <th>대출건수</th>\n",
       "      <th>등록일자</th>\n",
       "    </tr>\n",
       "  </thead>\n",
       "  <tbody>\n",
       "    <tr>\n",
       "      <th>100</th>\n",
       "      <td>101</td>\n",
       "      <td>No라고 말할 줄 아는 남편과 아내 - 개정판</td>\n",
       "      <td>헨리 클라우드, 존 타운센드 (지은이), 김진웅 (옮긴이)</td>\n",
       "      <td>좋은씨앗</td>\n",
       "      <td>18</td>\n",
       "      <td>9788958743019</td>\n",
       "      <td></td>\n",
       "      <td>NaN</td>\n",
       "      <td>NaN</td>\n",
       "      <td>234.9</td>\n",
       "      <td>1</td>\n",
       "      <td>1</td>\n",
       "      <td>2021-03-15</td>\n",
       "    </tr>\n",
       "    <tr>\n",
       "      <th>101</th>\n",
       "      <td>102</td>\n",
       "      <td>D2C 레볼루션 - 스타트업부터 글로벌 기업까지, 마켓 체인저의 필수 전략</td>\n",
       "      <td>로런스 인그래시아 (지은이), 안기순 (옮긴이)</td>\n",
       "      <td>부키</td>\n",
       "      <td>21</td>\n",
       "      <td>9788960518483</td>\n",
       "      <td></td>\n",
       "      <td>NaN</td>\n",
       "      <td>NaN</td>\n",
       "      <td>325.1</td>\n",
       "      <td>1</td>\n",
       "      <td>0</td>\n",
       "      <td>2021-03-15</td>\n",
       "    </tr>\n",
       "  </tbody>\n",
       "</table>\n",
       "</div>"
      ]
     },
     "execution_count": 52,
     "metadata": {},
     "output_type": "execute_result"
    }
   ],
   "execution_count": 52
  },
  {
   "metadata": {
    "ExecuteTime": {
     "end_time": "2025-05-12T13:42:11.528820Z",
     "start_time": "2025-05-12T13:42:09.895416Z"
    }
   },
   "cell_type": "code",
   "source": "ns_book4.replace({'발행년도':{r'\\d{2}(\\d{2})':r'\\1'}},regex=True)[100:102]",
   "id": "b90420a3a05b7aaa",
   "outputs": [
    {
     "data": {
      "text/plain": [
       "      번호                                        도서명  \\\n",
       "100  101                  No라고 말할 줄 아는 남편과 아내 - 개정판   \n",
       "101  102  D2C 레볼루션 - 스타트업부터 글로벌 기업까지, 마켓 체인저의 필수 전략   \n",
       "\n",
       "                                   저자   출판사 발행년도           ISBN 세트 ISBN 부가기호  \\\n",
       "100  헨리 클라우드, 존 타운센드 (지은이), 김진웅 (옮긴이)  좋은씨앗   18  9788958743019          NaN   \n",
       "101        로런스 인그래시아 (지은이), 안기순 (옮긴이)    부키   21  9788960518483          NaN   \n",
       "\n",
       "       권 주제분류번호  도서권수  대출건수        등록일자  \n",
       "100  NaN  234.9     1     1  2021-03-15  \n",
       "101  NaN  325.1     1     0  2021-03-15  "
      ],
      "text/html": [
       "<div>\n",
       "<style scoped>\n",
       "    .dataframe tbody tr th:only-of-type {\n",
       "        vertical-align: middle;\n",
       "    }\n",
       "\n",
       "    .dataframe tbody tr th {\n",
       "        vertical-align: top;\n",
       "    }\n",
       "\n",
       "    .dataframe thead th {\n",
       "        text-align: right;\n",
       "    }\n",
       "</style>\n",
       "<table border=\"1\" class=\"dataframe\">\n",
       "  <thead>\n",
       "    <tr style=\"text-align: right;\">\n",
       "      <th></th>\n",
       "      <th>번호</th>\n",
       "      <th>도서명</th>\n",
       "      <th>저자</th>\n",
       "      <th>출판사</th>\n",
       "      <th>발행년도</th>\n",
       "      <th>ISBN</th>\n",
       "      <th>세트 ISBN</th>\n",
       "      <th>부가기호</th>\n",
       "      <th>권</th>\n",
       "      <th>주제분류번호</th>\n",
       "      <th>도서권수</th>\n",
       "      <th>대출건수</th>\n",
       "      <th>등록일자</th>\n",
       "    </tr>\n",
       "  </thead>\n",
       "  <tbody>\n",
       "    <tr>\n",
       "      <th>100</th>\n",
       "      <td>101</td>\n",
       "      <td>No라고 말할 줄 아는 남편과 아내 - 개정판</td>\n",
       "      <td>헨리 클라우드, 존 타운센드 (지은이), 김진웅 (옮긴이)</td>\n",
       "      <td>좋은씨앗</td>\n",
       "      <td>18</td>\n",
       "      <td>9788958743019</td>\n",
       "      <td></td>\n",
       "      <td>NaN</td>\n",
       "      <td>NaN</td>\n",
       "      <td>234.9</td>\n",
       "      <td>1</td>\n",
       "      <td>1</td>\n",
       "      <td>2021-03-15</td>\n",
       "    </tr>\n",
       "    <tr>\n",
       "      <th>101</th>\n",
       "      <td>102</td>\n",
       "      <td>D2C 레볼루션 - 스타트업부터 글로벌 기업까지, 마켓 체인저의 필수 전략</td>\n",
       "      <td>로런스 인그래시아 (지은이), 안기순 (옮긴이)</td>\n",
       "      <td>부키</td>\n",
       "      <td>21</td>\n",
       "      <td>9788960518483</td>\n",
       "      <td></td>\n",
       "      <td>NaN</td>\n",
       "      <td>NaN</td>\n",
       "      <td>325.1</td>\n",
       "      <td>1</td>\n",
       "      <td>0</td>\n",
       "      <td>2021-03-15</td>\n",
       "    </tr>\n",
       "  </tbody>\n",
       "</table>\n",
       "</div>"
      ]
     },
     "execution_count": 54,
     "metadata": {},
     "output_type": "execute_result"
    }
   ],
   "execution_count": 54
  },
  {
   "metadata": {
    "ExecuteTime": {
     "end_time": "2025-05-12T13:58:19.563275Z",
     "start_time": "2025-05-12T13:58:16.622628Z"
    }
   },
   "cell_type": "code",
   "source": [
    "#문자찾기: 마침표(.)\n",
    "ns_book4.replace({'저자':{r'(.*)\\s\\(지은이\\)(.*)\\s\\(옮긴이\\)':r'\\1\\2'},'발행년도':{ r'\\d{2}(\\d{2})':r'\\1'}}, regex = True)[100:102]"
   ],
   "id": "21fafacac3d0f9b5",
   "outputs": [
    {
     "data": {
      "text/plain": [
       "      번호                                        도서명                    저자  \\\n",
       "100  101                  No라고 말할 줄 아는 남편과 아내 - 개정판  헨리 클라우드, 존 타운센드, 김진웅   \n",
       "101  102  D2C 레볼루션 - 스타트업부터 글로벌 기업까지, 마켓 체인저의 필수 전략        로런스 인그래시아, 안기순   \n",
       "\n",
       "      출판사 발행년도           ISBN 세트 ISBN 부가기호    권 주제분류번호  도서권수  대출건수        등록일자  \n",
       "100  좋은씨앗   18  9788958743019          NaN  NaN  234.9     1     1  2021-03-15  \n",
       "101    부키   21  9788960518483          NaN  NaN  325.1     1     0  2021-03-15  "
      ],
      "text/html": [
       "<div>\n",
       "<style scoped>\n",
       "    .dataframe tbody tr th:only-of-type {\n",
       "        vertical-align: middle;\n",
       "    }\n",
       "\n",
       "    .dataframe tbody tr th {\n",
       "        vertical-align: top;\n",
       "    }\n",
       "\n",
       "    .dataframe thead th {\n",
       "        text-align: right;\n",
       "    }\n",
       "</style>\n",
       "<table border=\"1\" class=\"dataframe\">\n",
       "  <thead>\n",
       "    <tr style=\"text-align: right;\">\n",
       "      <th></th>\n",
       "      <th>번호</th>\n",
       "      <th>도서명</th>\n",
       "      <th>저자</th>\n",
       "      <th>출판사</th>\n",
       "      <th>발행년도</th>\n",
       "      <th>ISBN</th>\n",
       "      <th>세트 ISBN</th>\n",
       "      <th>부가기호</th>\n",
       "      <th>권</th>\n",
       "      <th>주제분류번호</th>\n",
       "      <th>도서권수</th>\n",
       "      <th>대출건수</th>\n",
       "      <th>등록일자</th>\n",
       "    </tr>\n",
       "  </thead>\n",
       "  <tbody>\n",
       "    <tr>\n",
       "      <th>100</th>\n",
       "      <td>101</td>\n",
       "      <td>No라고 말할 줄 아는 남편과 아내 - 개정판</td>\n",
       "      <td>헨리 클라우드, 존 타운센드, 김진웅</td>\n",
       "      <td>좋은씨앗</td>\n",
       "      <td>18</td>\n",
       "      <td>9788958743019</td>\n",
       "      <td></td>\n",
       "      <td>NaN</td>\n",
       "      <td>NaN</td>\n",
       "      <td>234.9</td>\n",
       "      <td>1</td>\n",
       "      <td>1</td>\n",
       "      <td>2021-03-15</td>\n",
       "    </tr>\n",
       "    <tr>\n",
       "      <th>101</th>\n",
       "      <td>102</td>\n",
       "      <td>D2C 레볼루션 - 스타트업부터 글로벌 기업까지, 마켓 체인저의 필수 전략</td>\n",
       "      <td>로런스 인그래시아, 안기순</td>\n",
       "      <td>부키</td>\n",
       "      <td>21</td>\n",
       "      <td>9788960518483</td>\n",
       "      <td></td>\n",
       "      <td>NaN</td>\n",
       "      <td>NaN</td>\n",
       "      <td>325.1</td>\n",
       "      <td>1</td>\n",
       "      <td>0</td>\n",
       "      <td>2021-03-15</td>\n",
       "    </tr>\n",
       "  </tbody>\n",
       "</table>\n",
       "</div>"
      ]
     },
     "execution_count": 59,
     "metadata": {},
     "output_type": "execute_result"
    }
   ],
   "execution_count": 59
  },
  {
   "metadata": {},
   "cell_type": "markdown",
   "source": "잘못된 값 바꾸기",
   "id": "8a7ec9563da8e7ca"
  },
  {
   "metadata": {
    "ExecuteTime": {
     "end_time": "2025-05-12T14:02:34.405514Z",
     "start_time": "2025-05-12T14:02:34.345052Z"
    }
   },
   "cell_type": "code",
   "source": "ns_book4.astype({'발행년도':'int64'})",
   "id": "6948b526eafaccd0",
   "outputs": [
    {
     "ename": "ValueError",
     "evalue": "invalid literal for int() with base 10: '1988.'",
     "output_type": "error",
     "traceback": [
      "\u001B[1;31m---------------------------------------------------------------------------\u001B[0m",
      "\u001B[1;31mValueError\u001B[0m                                Traceback (most recent call last)",
      "\u001B[1;32m<ipython-input-64-dbebdd2e0696>\u001B[0m in \u001B[0;36m<module>\u001B[1;34m\u001B[0m\n\u001B[1;32m----> 1\u001B[1;33m \u001B[0mns_book4\u001B[0m\u001B[1;33m.\u001B[0m\u001B[0mastype\u001B[0m\u001B[1;33m(\u001B[0m\u001B[1;33m{\u001B[0m\u001B[1;34m'발행년도'\u001B[0m\u001B[1;33m:\u001B[0m\u001B[1;34m'int64'\u001B[0m\u001B[1;33m}\u001B[0m\u001B[1;33m)\u001B[0m\u001B[1;33m\u001B[0m\u001B[1;33m\u001B[0m\u001B[0m\n\u001B[0m",
      "\u001B[1;32m~\\anaconda3\\lib\\site-packages\\pandas\\core\\generic.py\u001B[0m in \u001B[0;36mastype\u001B[1;34m(self, dtype, copy, errors)\u001B[0m\n\u001B[0;32m   5860\u001B[0m                 \u001B[1;32mif\u001B[0m \u001B[0mcol_name\u001B[0m \u001B[1;32min\u001B[0m \u001B[0mdtype\u001B[0m\u001B[1;33m:\u001B[0m\u001B[1;33m\u001B[0m\u001B[1;33m\u001B[0m\u001B[0m\n\u001B[0;32m   5861\u001B[0m                     results.append(\n\u001B[1;32m-> 5862\u001B[1;33m                         \u001B[0mcol\u001B[0m\u001B[1;33m.\u001B[0m\u001B[0mastype\u001B[0m\u001B[1;33m(\u001B[0m\u001B[0mdtype\u001B[0m\u001B[1;33m=\u001B[0m\u001B[0mdtype\u001B[0m\u001B[1;33m[\u001B[0m\u001B[0mcol_name\u001B[0m\u001B[1;33m]\u001B[0m\u001B[1;33m,\u001B[0m \u001B[0mcopy\u001B[0m\u001B[1;33m=\u001B[0m\u001B[0mcopy\u001B[0m\u001B[1;33m,\u001B[0m \u001B[0merrors\u001B[0m\u001B[1;33m=\u001B[0m\u001B[0merrors\u001B[0m\u001B[1;33m)\u001B[0m\u001B[1;33m\u001B[0m\u001B[1;33m\u001B[0m\u001B[0m\n\u001B[0m\u001B[0;32m   5863\u001B[0m                     )\n\u001B[0;32m   5864\u001B[0m                 \u001B[1;32melse\u001B[0m\u001B[1;33m:\u001B[0m\u001B[1;33m\u001B[0m\u001B[1;33m\u001B[0m\u001B[0m\n",
      "\u001B[1;32m~\\anaconda3\\lib\\site-packages\\pandas\\core\\generic.py\u001B[0m in \u001B[0;36mastype\u001B[1;34m(self, dtype, copy, errors)\u001B[0m\n\u001B[0;32m   5875\u001B[0m         \u001B[1;32melse\u001B[0m\u001B[1;33m:\u001B[0m\u001B[1;33m\u001B[0m\u001B[1;33m\u001B[0m\u001B[0m\n\u001B[0;32m   5876\u001B[0m             \u001B[1;31m# else, only a single dtype is given\u001B[0m\u001B[1;33m\u001B[0m\u001B[1;33m\u001B[0m\u001B[1;33m\u001B[0m\u001B[0m\n\u001B[1;32m-> 5877\u001B[1;33m             \u001B[0mnew_data\u001B[0m \u001B[1;33m=\u001B[0m \u001B[0mself\u001B[0m\u001B[1;33m.\u001B[0m\u001B[0m_mgr\u001B[0m\u001B[1;33m.\u001B[0m\u001B[0mastype\u001B[0m\u001B[1;33m(\u001B[0m\u001B[0mdtype\u001B[0m\u001B[1;33m=\u001B[0m\u001B[0mdtype\u001B[0m\u001B[1;33m,\u001B[0m \u001B[0mcopy\u001B[0m\u001B[1;33m=\u001B[0m\u001B[0mcopy\u001B[0m\u001B[1;33m,\u001B[0m \u001B[0merrors\u001B[0m\u001B[1;33m=\u001B[0m\u001B[0merrors\u001B[0m\u001B[1;33m)\u001B[0m\u001B[1;33m\u001B[0m\u001B[1;33m\u001B[0m\u001B[0m\n\u001B[0m\u001B[0;32m   5878\u001B[0m             \u001B[1;32mreturn\u001B[0m \u001B[0mself\u001B[0m\u001B[1;33m.\u001B[0m\u001B[0m_constructor\u001B[0m\u001B[1;33m(\u001B[0m\u001B[0mnew_data\u001B[0m\u001B[1;33m)\u001B[0m\u001B[1;33m.\u001B[0m\u001B[0m__finalize__\u001B[0m\u001B[1;33m(\u001B[0m\u001B[0mself\u001B[0m\u001B[1;33m,\u001B[0m \u001B[0mmethod\u001B[0m\u001B[1;33m=\u001B[0m\u001B[1;34m\"astype\"\u001B[0m\u001B[1;33m)\u001B[0m\u001B[1;33m\u001B[0m\u001B[1;33m\u001B[0m\u001B[0m\n\u001B[0;32m   5879\u001B[0m \u001B[1;33m\u001B[0m\u001B[0m\n",
      "\u001B[1;32m~\\anaconda3\\lib\\site-packages\\pandas\\core\\internals\\managers.py\u001B[0m in \u001B[0;36mastype\u001B[1;34m(self, dtype, copy, errors)\u001B[0m\n\u001B[0;32m    629\u001B[0m         \u001B[0mself\u001B[0m\u001B[1;33m,\u001B[0m \u001B[0mdtype\u001B[0m\u001B[1;33m,\u001B[0m \u001B[0mcopy\u001B[0m\u001B[1;33m:\u001B[0m \u001B[0mbool\u001B[0m \u001B[1;33m=\u001B[0m \u001B[1;32mFalse\u001B[0m\u001B[1;33m,\u001B[0m \u001B[0merrors\u001B[0m\u001B[1;33m:\u001B[0m \u001B[0mstr\u001B[0m \u001B[1;33m=\u001B[0m \u001B[1;34m\"raise\"\u001B[0m\u001B[1;33m\u001B[0m\u001B[1;33m\u001B[0m\u001B[0m\n\u001B[0;32m    630\u001B[0m     ) -> \"BlockManager\":\n\u001B[1;32m--> 631\u001B[1;33m         \u001B[1;32mreturn\u001B[0m \u001B[0mself\u001B[0m\u001B[1;33m.\u001B[0m\u001B[0mapply\u001B[0m\u001B[1;33m(\u001B[0m\u001B[1;34m\"astype\"\u001B[0m\u001B[1;33m,\u001B[0m \u001B[0mdtype\u001B[0m\u001B[1;33m=\u001B[0m\u001B[0mdtype\u001B[0m\u001B[1;33m,\u001B[0m \u001B[0mcopy\u001B[0m\u001B[1;33m=\u001B[0m\u001B[0mcopy\u001B[0m\u001B[1;33m,\u001B[0m \u001B[0merrors\u001B[0m\u001B[1;33m=\u001B[0m\u001B[0merrors\u001B[0m\u001B[1;33m)\u001B[0m\u001B[1;33m\u001B[0m\u001B[1;33m\u001B[0m\u001B[0m\n\u001B[0m\u001B[0;32m    632\u001B[0m \u001B[1;33m\u001B[0m\u001B[0m\n\u001B[0;32m    633\u001B[0m     def convert(\n",
      "\u001B[1;32m~\\anaconda3\\lib\\site-packages\\pandas\\core\\internals\\managers.py\u001B[0m in \u001B[0;36mapply\u001B[1;34m(self, f, align_keys, ignore_failures, **kwargs)\u001B[0m\n\u001B[0;32m    425\u001B[0m                     \u001B[0mapplied\u001B[0m \u001B[1;33m=\u001B[0m \u001B[0mb\u001B[0m\u001B[1;33m.\u001B[0m\u001B[0mapply\u001B[0m\u001B[1;33m(\u001B[0m\u001B[0mf\u001B[0m\u001B[1;33m,\u001B[0m \u001B[1;33m**\u001B[0m\u001B[0mkwargs\u001B[0m\u001B[1;33m)\u001B[0m\u001B[1;33m\u001B[0m\u001B[1;33m\u001B[0m\u001B[0m\n\u001B[0;32m    426\u001B[0m                 \u001B[1;32melse\u001B[0m\u001B[1;33m:\u001B[0m\u001B[1;33m\u001B[0m\u001B[1;33m\u001B[0m\u001B[0m\n\u001B[1;32m--> 427\u001B[1;33m                     \u001B[0mapplied\u001B[0m \u001B[1;33m=\u001B[0m \u001B[0mgetattr\u001B[0m\u001B[1;33m(\u001B[0m\u001B[0mb\u001B[0m\u001B[1;33m,\u001B[0m \u001B[0mf\u001B[0m\u001B[1;33m)\u001B[0m\u001B[1;33m(\u001B[0m\u001B[1;33m**\u001B[0m\u001B[0mkwargs\u001B[0m\u001B[1;33m)\u001B[0m\u001B[1;33m\u001B[0m\u001B[1;33m\u001B[0m\u001B[0m\n\u001B[0m\u001B[0;32m    428\u001B[0m             \u001B[1;32mexcept\u001B[0m \u001B[1;33m(\u001B[0m\u001B[0mTypeError\u001B[0m\u001B[1;33m,\u001B[0m \u001B[0mNotImplementedError\u001B[0m\u001B[1;33m)\u001B[0m\u001B[1;33m:\u001B[0m\u001B[1;33m\u001B[0m\u001B[1;33m\u001B[0m\u001B[0m\n\u001B[0;32m    429\u001B[0m                 \u001B[1;32mif\u001B[0m \u001B[1;32mnot\u001B[0m \u001B[0mignore_failures\u001B[0m\u001B[1;33m:\u001B[0m\u001B[1;33m\u001B[0m\u001B[1;33m\u001B[0m\u001B[0m\n",
      "\u001B[1;32m~\\anaconda3\\lib\\site-packages\\pandas\\core\\internals\\blocks.py\u001B[0m in \u001B[0;36mastype\u001B[1;34m(self, dtype, copy, errors)\u001B[0m\n\u001B[0;32m    671\u001B[0m             \u001B[0mvals1d\u001B[0m \u001B[1;33m=\u001B[0m \u001B[0mvalues\u001B[0m\u001B[1;33m.\u001B[0m\u001B[0mravel\u001B[0m\u001B[1;33m(\u001B[0m\u001B[1;33m)\u001B[0m\u001B[1;33m\u001B[0m\u001B[1;33m\u001B[0m\u001B[0m\n\u001B[0;32m    672\u001B[0m             \u001B[1;32mtry\u001B[0m\u001B[1;33m:\u001B[0m\u001B[1;33m\u001B[0m\u001B[1;33m\u001B[0m\u001B[0m\n\u001B[1;32m--> 673\u001B[1;33m                 \u001B[0mvalues\u001B[0m \u001B[1;33m=\u001B[0m \u001B[0mastype_nansafe\u001B[0m\u001B[1;33m(\u001B[0m\u001B[0mvals1d\u001B[0m\u001B[1;33m,\u001B[0m \u001B[0mdtype\u001B[0m\u001B[1;33m,\u001B[0m \u001B[0mcopy\u001B[0m\u001B[1;33m=\u001B[0m\u001B[1;32mTrue\u001B[0m\u001B[1;33m)\u001B[0m\u001B[1;33m\u001B[0m\u001B[1;33m\u001B[0m\u001B[0m\n\u001B[0m\u001B[0;32m    674\u001B[0m             \u001B[1;32mexcept\u001B[0m \u001B[1;33m(\u001B[0m\u001B[0mValueError\u001B[0m\u001B[1;33m,\u001B[0m \u001B[0mTypeError\u001B[0m\u001B[1;33m)\u001B[0m\u001B[1;33m:\u001B[0m\u001B[1;33m\u001B[0m\u001B[1;33m\u001B[0m\u001B[0m\n\u001B[0;32m    675\u001B[0m                 \u001B[1;31m# e.g. astype_nansafe can fail on object-dtype of strings\u001B[0m\u001B[1;33m\u001B[0m\u001B[1;33m\u001B[0m\u001B[1;33m\u001B[0m\u001B[0m\n",
      "\u001B[1;32m~\\anaconda3\\lib\\site-packages\\pandas\\core\\dtypes\\cast.py\u001B[0m in \u001B[0;36mastype_nansafe\u001B[1;34m(arr, dtype, copy, skipna)\u001B[0m\n\u001B[0;32m   1072\u001B[0m         \u001B[1;31m# work around NumPy brokenness, #1987\u001B[0m\u001B[1;33m\u001B[0m\u001B[1;33m\u001B[0m\u001B[1;33m\u001B[0m\u001B[0m\n\u001B[0;32m   1073\u001B[0m         \u001B[1;32mif\u001B[0m \u001B[0mnp\u001B[0m\u001B[1;33m.\u001B[0m\u001B[0missubdtype\u001B[0m\u001B[1;33m(\u001B[0m\u001B[0mdtype\u001B[0m\u001B[1;33m.\u001B[0m\u001B[0mtype\u001B[0m\u001B[1;33m,\u001B[0m \u001B[0mnp\u001B[0m\u001B[1;33m.\u001B[0m\u001B[0minteger\u001B[0m\u001B[1;33m)\u001B[0m\u001B[1;33m:\u001B[0m\u001B[1;33m\u001B[0m\u001B[1;33m\u001B[0m\u001B[0m\n\u001B[1;32m-> 1074\u001B[1;33m             \u001B[1;32mreturn\u001B[0m \u001B[0mlib\u001B[0m\u001B[1;33m.\u001B[0m\u001B[0mastype_intsafe\u001B[0m\u001B[1;33m(\u001B[0m\u001B[0marr\u001B[0m\u001B[1;33m.\u001B[0m\u001B[0mravel\u001B[0m\u001B[1;33m(\u001B[0m\u001B[1;33m)\u001B[0m\u001B[1;33m,\u001B[0m \u001B[0mdtype\u001B[0m\u001B[1;33m)\u001B[0m\u001B[1;33m.\u001B[0m\u001B[0mreshape\u001B[0m\u001B[1;33m(\u001B[0m\u001B[0marr\u001B[0m\u001B[1;33m.\u001B[0m\u001B[0mshape\u001B[0m\u001B[1;33m)\u001B[0m\u001B[1;33m\u001B[0m\u001B[1;33m\u001B[0m\u001B[0m\n\u001B[0m\u001B[0;32m   1075\u001B[0m \u001B[1;33m\u001B[0m\u001B[0m\n\u001B[0;32m   1076\u001B[0m         \u001B[1;31m# if we have a datetime/timedelta array of objects\u001B[0m\u001B[1;33m\u001B[0m\u001B[1;33m\u001B[0m\u001B[1;33m\u001B[0m\u001B[0m\n",
      "\u001B[1;32mpandas\\_libs\\lib.pyx\u001B[0m in \u001B[0;36mpandas._libs.lib.astype_intsafe\u001B[1;34m()\u001B[0m\n",
      "\u001B[1;31mValueError\u001B[0m: invalid literal for int() with base 10: '1988.'"
     ]
    }
   ],
   "execution_count": 64
  },
  {
   "metadata": {
    "ExecuteTime": {
     "end_time": "2025-05-12T14:05:44.294524Z",
     "start_time": "2025-05-12T14:05:44.089947Z"
    }
   },
   "cell_type": "code",
   "source": "ns_book4['발행년도'].str.contains('1988').sum()",
   "id": "7cda9933f11790c",
   "outputs": [
    {
     "data": {
      "text/plain": [
       "407"
      ]
     },
     "execution_count": 67,
     "metadata": {},
     "output_type": "execute_result"
    }
   ],
   "execution_count": 67
  },
  {
   "metadata": {},
   "cell_type": "code",
   "outputs": [],
   "execution_count": null,
   "source": "",
   "id": "548bc1a41241610a"
  }
 ],
 "metadata": {
  "kernelspec": {
   "display_name": "Python 3",
   "language": "python",
   "name": "python3"
  },
  "language_info": {
   "codemirror_mode": {
    "name": "ipython",
    "version": 2
   },
   "file_extension": ".py",
   "mimetype": "text/x-python",
   "name": "python",
   "nbconvert_exporter": "python",
   "pygments_lexer": "ipython2",
   "version": "2.7.6"
  }
 },
 "nbformat": 4,
 "nbformat_minor": 5
}
